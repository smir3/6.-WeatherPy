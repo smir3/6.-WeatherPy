{
 "cells": [
  {
   "cell_type": "code",
   "execution_count": 1,
   "id": "7f675de8",
   "metadata": {},
   "outputs": [],
   "source": [
    "import requests\n",
    "url = \"https://api.spacexdata.com/v2/launchpads\""
   ]
  },
  {
   "cell_type": "code",
   "execution_count": 3,
   "id": "c22c9bb1",
   "metadata": {},
   "outputs": [
    {
     "data": {
      "text/plain": [
       "'https://api.spacexdata.com/v2/launchpads'"
      ]
     },
     "execution_count": 3,
     "metadata": {},
     "output_type": "execute_result"
    }
   ],
   "source": [
    "url"
   ]
  },
  {
   "cell_type": "code",
   "execution_count": 4,
   "id": "2e1c2a71",
   "metadata": {},
   "outputs": [],
   "source": [
    "city_weather = requests.get(url).json()"
   ]
  },
  {
   "cell_type": "code",
   "execution_count": 6,
   "id": "5d6f5c87",
   "metadata": {},
   "outputs": [
    {
     "data": {
      "text/plain": [
       "6"
      ]
     },
     "execution_count": 6,
     "metadata": {},
     "output_type": "execute_result"
    }
   ],
   "source": [
    "len(city_weather)"
   ]
  },
  {
   "cell_type": "code",
   "execution_count": 7,
   "id": "28efd108",
   "metadata": {},
   "outputs": [
    {
     "data": {
      "text/plain": [
       "[{'padid': 5,\n",
       "  'id': 'vafb_slc_3w',\n",
       "  'name': 'VAFB SLC 3W',\n",
       "  'full_name': 'Vandenberg Air Force Base Space Launch Complex 3W',\n",
       "  'status': 'retired',\n",
       "  'location': {'name': 'Vandenberg Air Force Base',\n",
       "   'region': 'California',\n",
       "   'latitude': 34.6440904,\n",
       "   'longitude': -120.5931438},\n",
       "  'vehicles_launched': ['Falcon 1'],\n",
       "  'attempted_launches': 0,\n",
       "  'successful_launches': 0,\n",
       "  'wikipedia': 'https://en.wikipedia.org/wiki/Vandenberg_AFB_Space_Launch_Complex_3',\n",
       "  'details': 'SpaceX original west coast launch pad for Falcon 1. Performed a static fire but was never used for a launch and abandoned due to scheduling conflicts.'},\n",
       " {'padid': 2,\n",
       "  'id': 'ccafs_slc_40',\n",
       "  'name': 'CCAFS SLC 40',\n",
       "  'full_name': 'Cape Canaveral Air Force Station Space Launch Complex 40',\n",
       "  'status': 'active',\n",
       "  'location': {'name': 'Cape Canaveral',\n",
       "   'region': 'Florida',\n",
       "   'latitude': 28.5618571,\n",
       "   'longitude': -80.577366},\n",
       "  'vehicles_launched': ['Falcon 9'],\n",
       "  'attempted_launches': 61,\n",
       "  'successful_launches': 59,\n",
       "  'wikipedia': 'https://en.wikipedia.org/wiki/Cape_Canaveral_Air_Force_Station_Space_Launch_Complex_40',\n",
       "  'details': 'SpaceX primary Falcon 9 launch pad, where all east coast Falcon 9s launched prior to the AMOS-6 anomaly. Initially used to launch Titan rockets for Lockheed Martin. Back online since CRS-13 on 2017-12-15.'},\n",
       " {'padid': 8,\n",
       "  'id': 'stls',\n",
       "  'name': 'STLS',\n",
       "  'full_name': 'SpaceX South Texas Launch Site',\n",
       "  'status': 'under construction',\n",
       "  'location': {'name': 'Boca Chica Village',\n",
       "   'region': 'Texas',\n",
       "   'latitude': 25.9972641,\n",
       "   'longitude': -97.1560845},\n",
       "  'vehicles_launched': ['Falcon 9'],\n",
       "  'attempted_launches': 0,\n",
       "  'successful_launches': 0,\n",
       "  'wikipedia': 'https://en.wikipedia.org/wiki/SpaceX_South_Texas_Launch_Site',\n",
       "  'details': 'SpaceX new launch site currently under construction to help keep up with the Falcon 9 and Heavy manifests. Expected to be completed in late 2018. Initially will be limited to 12 flights per year, and only GTO launches.'},\n",
       " {'padid': 1,\n",
       "  'id': 'kwajalein_atoll',\n",
       "  'name': 'Kwajalein Atoll',\n",
       "  'full_name': 'Kwajalein Atoll Omelek Island',\n",
       "  'status': 'retired',\n",
       "  'location': {'name': 'Omelek Island',\n",
       "   'region': 'Marshall Islands',\n",
       "   'latitude': 9.0477206,\n",
       "   'longitude': 167.7431292},\n",
       "  'vehicles_launched': ['Falcon 1'],\n",
       "  'attempted_launches': 5,\n",
       "  'successful_launches': 2,\n",
       "  'wikipedia': 'https://en.wikipedia.org/wiki/Omelek_Island',\n",
       "  'details': 'SpaceX original launch site, where all of the Falcon 1 launches occured. Abandoned as SpaceX decided against upgrading the pad to support Falcon 9.'},\n",
       " {'padid': 6,\n",
       "  'id': 'vafb_slc_4e',\n",
       "  'name': 'VAFB SLC 4E',\n",
       "  'full_name': 'Vandenberg Air Force Base Space Launch Complex 4E',\n",
       "  'status': 'active',\n",
       "  'location': {'name': 'Vandenberg Air Force Base',\n",
       "   'region': 'California',\n",
       "   'latitude': 34.632093,\n",
       "   'longitude': -120.610829},\n",
       "  'vehicles_launched': ['Falcon 9'],\n",
       "  'attempted_launches': 16,\n",
       "  'successful_launches': 16,\n",
       "  'wikipedia': 'https://en.wikipedia.org/wiki/Vandenberg_AFB_Space_Launch_Complex_4',\n",
       "  'details': 'SpaceX primary west coast launch pad for polar orbits and sun synchronous orbits, primarily used for Iridium. Also intended to be capable of launching Falcon Heavy.'},\n",
       " {'padid': 4,\n",
       "  'id': 'ksc_lc_39a',\n",
       "  'name': 'KSC LC 39A',\n",
       "  'full_name': 'Kennedy Space Center Historic Launch Complex 39A',\n",
       "  'status': 'active',\n",
       "  'location': {'name': 'Cape Canaveral',\n",
       "   'region': 'Florida',\n",
       "   'latitude': 28.6080585,\n",
       "   'longitude': -80.6039558},\n",
       "  'vehicles_launched': ['Falcon 9', 'Falcon Heavy'],\n",
       "  'attempted_launches': 27,\n",
       "  'successful_launches': 26,\n",
       "  'wikipedia': 'https://en.wikipedia.org/wiki/Kennedy_Space_Center_Launch_Complex_39#Launch_Complex_39A',\n",
       "  'details': 'NASA historic launch pad that launched most of the Saturn V and Space Shuttle missions. Initially for Falcon Heavy launches, it is now launching all of SpaceX east coast missions due to the damage from the AMOS-6 anomaly. After SLC-40 repairs are complete, it will be upgraded to support Falcon Heavy, a process which will take about two months. In the future it will launch commercial crew missions and the Interplanetary Transport System.'}]"
      ]
     },
     "execution_count": 7,
     "metadata": {},
     "output_type": "execute_result"
    }
   ],
   "source": [
    "city_weather"
   ]
  },
  {
   "cell_type": "code",
   "execution_count": 2,
   "id": "4c7c1997",
   "metadata": {},
   "outputs": [
    {
     "name": "stdout",
     "output_type": "stream",
     "text": [
      "{'apiVersion': '2.0', 'data': {'updated': '2010-01-07T19:58:42.949Z', 'totalItems': 800, 'startIndex': 1, 'itemsPerPage': 1, 'items': [{'id': 'hYB0mn5zh2c', 'uploaded': '2007-06-05T22:07:03.000Z', 'updated': '2010-01-07T13:26:50.000Z', 'uploader': 'GoogleDeveloperDay', 'category': 'News', 'title': 'Google Developers Day US - Maps API Introduction', 'description': 'Google Maps API Introduction ...', 'tags': ['GDD07', 'GDD07US', 'Maps'], 'thumbnail': {'default': 'http://i.ytimg.com/vi/hYB0mn5zh2c/default.jpg', 'hqDefault': 'http://i.ytimg.com/vi/hYB0mn5zh2c/hqdefault.jpg'}, 'player': {'default': 'http://www.youtube.com/watch?vu003dhYB0mn5zh2c'}, 'content': {'1': 'rtsp://v5.cache3.c.youtube.com/CiILENy.../0/0/0/video.3gp', '5': 'http://www.youtube.com/v/hYB0mn5zh2c?f...', '6': 'rtsp://v1.cache1.c.youtube.com/CiILENy.../0/0/0/video.3gp'}, 'duration': 2840, 'aspectRatio': 'widescreen', 'rating': 4.63, 'ratingCount': 68, 'viewCount': 220101, 'favoriteCount': 201, 'commentCount': 22, 'status': {'value': 'restricted', 'reason': 'limitedSyndication'}, 'accessControl': {'syndicate': 'allowed', 'commentVote': 'allowed', 'rate': 'allowed', 'list': 'allowed', 'comment': 'allowed', 'embed': 'allowed', 'videoRespond': 'moderated'}}]}}\n"
     ]
    }
   ],
   "source": [
    "import json\n",
    "import os\n",
    "\n",
    "filepath = os.path.join(\"youtube_response.json\")\n",
    "with open(filepath) as jsonfile:\n",
    "    video_json = json.load(jsonfile)\n",
    "    \n",
    "print(video_json)"
   ]
  },
  {
   "cell_type": "code",
   "execution_count": 7,
   "id": "c66f2b7a",
   "metadata": {},
   "outputs": [],
   "source": [
    "keyboard = [\"apiVersion\", \"data\", \"items\", \"0\", \"id\"];"
   ]
  },
  {
   "cell_type": "code",
   "execution_count": 13,
   "id": "aaa78a07",
   "metadata": {},
   "outputs": [
    {
     "ename": "TypeError",
     "evalue": "'dict' object is not callable",
     "output_type": "error",
     "traceback": [
      "\u001b[1;31m---------------------------------------------------------------------------\u001b[0m",
      "\u001b[1;31mTypeError\u001b[0m                                 Traceback (most recent call last)",
      "\u001b[1;32m<ipython-input-13-f5551812b361>\u001b[0m in \u001b[0;36m<module>\u001b[1;34m\u001b[0m\n\u001b[1;32m----> 1\u001b[1;33m \u001b[0mvideo_json\u001b[0m\u001b[1;33m(\u001b[0m\u001b[0mkeyboard\u001b[0m\u001b[1;33m[\u001b[0m\u001b[1;36m0\u001b[0m\u001b[1;33m]\u001b[0m\u001b[1;33m)\u001b[0m\u001b[1;33m\u001b[0m\u001b[1;33m\u001b[0m\u001b[0m\n\u001b[0m",
      "\u001b[1;31mTypeError\u001b[0m: 'dict' object is not callable"
     ]
    }
   ],
   "source": [
    "video_json(keyboard[0])\n"
   ]
  },
  {
   "cell_type": "code",
   "execution_count": null,
   "id": "ff7f27f1",
   "metadata": {},
   "outputs": [],
   "source": []
  }
 ],
 "metadata": {
  "kernelspec": {
   "display_name": "PythonData",
   "language": "python",
   "name": "pythondata"
  },
  "language_info": {
   "codemirror_mode": {
    "name": "ipython",
    "version": 3
   },
   "file_extension": ".py",
   "mimetype": "text/x-python",
   "name": "python",
   "nbconvert_exporter": "python",
   "pygments_lexer": "ipython3",
   "version": "3.7.10"
  }
 },
 "nbformat": 4,
 "nbformat_minor": 5
}
