{
 "cells": [
  {
   "cell_type": "code",
   "execution_count": 1,
   "id": "619e5b9d",
   "metadata": {},
   "outputs": [],
   "source": [
    "# Latitudes are imaginary lines on Earth that run parallel east to west and are measured in angular units called degrees, minutes, and seconds, with 60 minutes in a degree and 60 seconds in a minute. Sometimes a latitude is referred to as a parallel.Longitudes are imaginary lines on Earth that run from the North to the South Poles and are called meridians.   The prime meridian represents zero meridian, the origin for longitude coordinates, and splits Earth into the Eastern and Western Hemispheres.All meridians east of the prime meridian are considered positive, after 0° and up to 180°. All meridians west of the prime meridian are considered negative, before 0° and down to –180°.\n",
    "import random\n"
   ]
  },
  {
   "cell_type": "code",
   "execution_count": 6,
   "id": "846179c2",
   "metadata": {},
   "outputs": [
    {
     "data": {
      "text/plain": [
       "0.636989615818425"
      ]
     },
     "execution_count": 6,
     "metadata": {},
     "output_type": "execute_result"
    }
   ],
   "source": [
    "# produce random floating number\n",
    "random.random()"
   ]
  },
  {
   "cell_type": "code",
   "execution_count": 4,
   "id": "c9a3b369",
   "metadata": {},
   "outputs": [
    {
     "data": {
      "text/plain": [
       "-29"
      ]
     },
     "execution_count": 4,
     "metadata": {},
     "output_type": "execute_result"
    }
   ],
   "source": [
    "# produce random integer\n",
    "random.randint(-90,90)"
   ]
  },
  {
   "cell_type": "code",
   "execution_count": 7,
   "id": "bf5488b6",
   "metadata": {},
   "outputs": [
    {
     "data": {
      "text/plain": [
       "-37.718441157570865"
      ]
     },
     "execution_count": 7,
     "metadata": {},
     "output_type": "execute_result"
    }
   ],
   "source": [
    "random_number = random.randint(-90, 89) + random.random()\n",
    "random_number"
   ]
  },
  {
   "cell_type": "code",
   "execution_count": 14,
   "id": "e2c2e2dd",
   "metadata": {},
   "outputs": [
    {
     "name": "stdout",
     "output_type": "stream",
     "text": [
      "[72.41518847195073, -3.169400155560518, -19.375480212812572, -55.86448822869606, 2.6383361544972086, -82.56609861648788, 40.36581913481367, -30.542000922999264, 16.833926327448264, 78.8370429055879]\n"
     ]
    }
   ],
   "source": [
    "# generate ten random floating-point decimel latitudes between -90 and 89. This code will run for aslong as x is less than 11\n",
    "x=1 \n",
    "latitudes = []\n",
    "while x < 11:\n",
    "    random_lat = random.randint(-90, 89) + random.random()\n",
    "    latitudes.append(random_lat)\n",
    "    x += 1\n",
    "    \n",
    "print(latitudes)"
   ]
  },
  {
   "cell_type": "code",
   "execution_count": 15,
   "id": "ea86214b",
   "metadata": {},
   "outputs": [
    {
     "data": {
      "text/plain": [
       "36"
      ]
     },
     "execution_count": 15,
     "metadata": {},
     "output_type": "execute_result"
    }
   ],
   "source": [
    "# add lower and upper limit number, add a step parameter which will generate increments of a given integer value\n",
    "random.randrange(-90,90, step=1)\n"
   ]
  },
  {
   "cell_type": "code",
   "execution_count": 16,
   "id": "d8dfaa9d",
   "metadata": {},
   "outputs": [
    {
     "data": {
      "text/plain": [
       "51"
      ]
     },
     "execution_count": 16,
     "metadata": {},
     "output_type": "execute_result"
    }
   ],
   "source": [
    "# add randrange with step =3\n",
    "random.randrange(-90, 90, step=3)\n"
   ]
  },
  {
   "cell_type": "code",
   "execution_count": null,
   "id": "7b8e334c",
   "metadata": {},
   "outputs": [],
   "source": [
    "# random value with decimels \n",
    "random.uniform(-10,10)"
   ]
  },
  {
   "cell_type": "code",
   "execution_count": 17,
   "id": "207fcbe2",
   "metadata": {},
   "outputs": [
    {
     "data": {
      "text/plain": [
       "-66.23582706244855"
      ]
     },
     "execution_count": 17,
     "metadata": {},
     "output_type": "execute_result"
    }
   ],
   "source": [
    "# uniform function generated floating-point decimal between two given numbers inside the parentheses\n",
    "random.uniform(-90, 90)\n"
   ]
  },
  {
   "cell_type": "code",
   "execution_count": 18,
   "id": "ab23986a",
   "metadata": {},
   "outputs": [],
   "source": [
    "# to get 1500 latitudes and longitudes combine the NumPy module\n",
    "import numpy as np"
   ]
  },
  {
   "cell_type": "code",
   "execution_count": 19,
   "id": "c52a3c78",
   "metadata": {},
   "outputs": [
    {
     "data": {
      "text/plain": [
       "45.39635898622822"
      ]
     },
     "execution_count": 19,
     "metadata": {},
     "output_type": "execute_result"
    }
   ],
   "source": [
    "# combine numpy module with uniform value generating a single value\n",
    "np.random.uniform(-90.000, 90.000)"
   ]
  },
  {
   "cell_type": "code",
   "execution_count": 20,
   "id": "ee475e11",
   "metadata": {},
   "outputs": [
    {
     "data": {
      "text/plain": [
       "array([ 67.41556883, -12.23402026,   4.91603381,  59.85028891,\n",
       "       -70.92118904,  62.15161988, -35.80316341, -28.65507875,\n",
       "       -65.86335701,  64.17947461,  55.74517824, -30.45203872,\n",
       "        12.75838327,   3.36072644,  16.63982145, -60.14365795,\n",
       "        71.41992597,  56.5187843 ,  70.54943291,  51.90171881,\n",
       "        72.87433423, -12.94242188, -76.65316853,  14.17251656,\n",
       "       -49.96870567,  12.67222164,  19.76925821, -72.97155808,\n",
       "       -67.79439704, -68.63556539,  10.39070365,  42.39417761,\n",
       "       -20.03775517,  25.99523931, -19.76734435,  58.14952831,\n",
       "        70.77742732,  86.6942053 ,  65.85083423, -68.22642377,\n",
       "        40.5620814 ,  27.30765087,  45.34371474, -81.26203486,\n",
       "        55.44010903, -16.58110521,  55.90003974, -58.65884712,\n",
       "       -48.45754743,  39.79739384])"
      ]
     },
     "execution_count": 20,
     "metadata": {},
     "output_type": "execute_result"
    }
   ],
   "source": [
    "# combine the uniform function with a size value to get an array with a certain amount of values\n",
    "np.random.uniform(-90.000, 90.000, size=50)"
   ]
  },
  {
   "cell_type": "code",
   "execution_count": 21,
   "id": "edb87e59",
   "metadata": {},
   "outputs": [],
   "source": [
    "# Import timeit.\n",
    "import timeit"
   ]
  },
  {
   "cell_type": "code",
   "execution_count": 22,
   "id": "0e948a96",
   "metadata": {},
   "outputs": [
    {
     "name": "stdout",
     "output_type": "stream",
     "text": [
      "33.9 µs ± 2.21 µs per loop (mean ± std. dev. of 7 runs, 10000 loops each)\n"
     ]
    }
   ],
   "source": [
    "# add the time it command to compare this uniform function with the while loop\n",
    "%timeit np.random.uniform(-90.000, 90.000, size=1500)"
   ]
  },
  {
   "cell_type": "code",
   "execution_count": 23,
   "id": "a653db57",
   "metadata": {},
   "outputs": [
    {
     "name": "stdout",
     "output_type": "stream",
     "text": [
      "4.35 ms ± 332 µs per loop (mean ± std. dev. of 7 runs, 100 loops each)\n"
     ]
    }
   ],
   "source": [
    "def latitudes(size):\n",
    "    latitudes = []\n",
    "    x = 0\n",
    "    while x < (size):\n",
    "        random_lat = random.randint(-90, 90) + random.random()\n",
    "        latitudes.append(random_lat)\n",
    "        x += 1\n",
    "    return latitudes\n",
    "# Call the function with 1500.\n",
    "%timeit latitudes(1500)"
   ]
  },
  {
   "cell_type": "code",
   "execution_count": null,
   "id": "28eb299d",
   "metadata": {},
   "outputs": [],
   "source": []
  }
 ],
 "metadata": {
  "kernelspec": {
   "display_name": "PythonData",
   "language": "python",
   "name": "pythondata"
  },
  "language_info": {
   "codemirror_mode": {
    "name": "ipython",
    "version": 3
   },
   "file_extension": ".py",
   "mimetype": "text/x-python",
   "name": "python",
   "nbconvert_exporter": "python",
   "pygments_lexer": "ipython3",
   "version": "3.7.10"
  }
 },
 "nbformat": 4,
 "nbformat_minor": 5
}
